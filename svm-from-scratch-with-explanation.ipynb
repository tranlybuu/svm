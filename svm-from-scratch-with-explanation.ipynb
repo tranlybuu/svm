{
 "cells": [
  {
   "cell_type": "code",
   "execution_count": 5,
   "id": "6efe1dae",
   "metadata": {
    "_cell_guid": "b1076dfc-b9ad-4769-8c92-a6c4dae69d19",
    "_uuid": "8f2839f25d086af736a60e9eeb907d3b93b6e0e5",
    "execution": {
     "iopub.execute_input": "2022-01-16T11:49:00.502894Z",
     "iopub.status.busy": "2022-01-16T11:49:00.502008Z",
     "iopub.status.idle": "2022-01-16T11:49:02.212020Z",
     "shell.execute_reply": "2022-01-16T11:49:02.212583Z",
     "shell.execute_reply.started": "2022-01-16T11:36:02.788225Z"
    },
    "papermill": {
     "duration": 1.733485,
     "end_time": "2022-01-16T11:49:02.212945",
     "exception": false,
     "start_time": "2022-01-16T11:49:00.479460",
     "status": "completed"
    },
    "tags": []
   },
   "outputs": [],
   "source": [
    "import numpy as np  # for handling multi-dimensional array operation\n",
    "import pandas as pd  # for reading data from csv \n",
    "import statsmodels.api as sm  # for finding the p-value \n",
    "from sklearn.preprocessing import MinMaxScaler  # for normalization\n",
    "\n",
    "from sklearn.model_selection import train_test_split as tts # to split our data into train and test samples.\n",
    "#If you want to see how to implement  this split from scratch you can check out my other project Glass Classification using KNN from Scratch in my profile.\n",
    "\n",
    "from sklearn.metrics import accuracy_score # for calculating our accuracy in the end \n",
    "from sklearn.metrics import recall_score\n",
    "from sklearn.metrics import precision_score"
   ]
  },
  {
   "cell_type": "markdown",
   "id": "4590ad20",
   "metadata": {
    "papermill": {
     "duration": 0.009754,
     "end_time": "2022-01-16T11:49:02.253015",
     "exception": false,
     "start_time": "2022-01-16T11:49:02.243261",
     "status": "completed"
    },
    "tags": []
   },
   "source": [
    "# Data Preparation"
   ]
  },
  {
   "cell_type": "code",
   "execution_count": 6,
   "id": "de55a2b2",
   "metadata": {
    "execution": {
     "iopub.execute_input": "2022-01-16T11:49:02.278962Z",
     "iopub.status.busy": "2022-01-16T11:49:02.278224Z",
     "iopub.status.idle": "2022-01-16T11:49:02.305779Z",
     "shell.execute_reply": "2022-01-16T11:49:02.306349Z",
     "shell.execute_reply.started": "2022-01-16T11:36:02.795564Z"
    },
    "papermill": {
     "duration": 0.043472,
     "end_time": "2022-01-16T11:49:02.306560",
     "exception": false,
     "start_time": "2022-01-16T11:49:02.263088",
     "status": "completed"
    },
    "tags": []
   },
   "outputs": [],
   "source": [
    "data = pd.read_csv('./breast-cancer/data.csv')"
   ]
  },
  {
   "cell_type": "code",
   "execution_count": 7,
   "id": "7667059c",
   "metadata": {
    "execution": {
     "iopub.execute_input": "2022-01-16T11:49:02.330418Z",
     "iopub.status.busy": "2022-01-16T11:49:02.329817Z",
     "iopub.status.idle": "2022-01-16T11:49:02.364821Z",
     "shell.execute_reply": "2022-01-16T11:49:02.365288Z",
     "shell.execute_reply.started": "2022-01-16T11:36:02.848956Z"
    },
    "papermill": {
     "duration": 0.0487,
     "end_time": "2022-01-16T11:49:02.365483",
     "exception": false,
     "start_time": "2022-01-16T11:49:02.316783",
     "status": "completed"
    },
    "tags": []
   },
   "outputs": [
    {
     "data": {
      "text/html": [
       "<div>\n",
       "<style scoped>\n",
       "    .dataframe tbody tr th:only-of-type {\n",
       "        vertical-align: middle;\n",
       "    }\n",
       "\n",
       "    .dataframe tbody tr th {\n",
       "        vertical-align: top;\n",
       "    }\n",
       "\n",
       "    .dataframe thead th {\n",
       "        text-align: right;\n",
       "    }\n",
       "</style>\n",
       "<table border=\"1\" class=\"dataframe\">\n",
       "  <thead>\n",
       "    <tr style=\"text-align: right;\">\n",
       "      <th></th>\n",
       "      <th>id</th>\n",
       "      <th>diagnosis</th>\n",
       "      <th>radius_mean</th>\n",
       "      <th>texture_mean</th>\n",
       "      <th>perimeter_mean</th>\n",
       "      <th>area_mean</th>\n",
       "      <th>smoothness_mean</th>\n",
       "      <th>compactness_mean</th>\n",
       "      <th>concavity_mean</th>\n",
       "      <th>concave points_mean</th>\n",
       "      <th>...</th>\n",
       "      <th>texture_worst</th>\n",
       "      <th>perimeter_worst</th>\n",
       "      <th>area_worst</th>\n",
       "      <th>smoothness_worst</th>\n",
       "      <th>compactness_worst</th>\n",
       "      <th>concavity_worst</th>\n",
       "      <th>concave points_worst</th>\n",
       "      <th>symmetry_worst</th>\n",
       "      <th>fractal_dimension_worst</th>\n",
       "      <th>Unnamed: 32</th>\n",
       "    </tr>\n",
       "  </thead>\n",
       "  <tbody>\n",
       "    <tr>\n",
       "      <th>0</th>\n",
       "      <td>842302</td>\n",
       "      <td>M</td>\n",
       "      <td>17.99</td>\n",
       "      <td>10.38</td>\n",
       "      <td>122.80</td>\n",
       "      <td>1001.0</td>\n",
       "      <td>0.11840</td>\n",
       "      <td>0.27760</td>\n",
       "      <td>0.3001</td>\n",
       "      <td>0.14710</td>\n",
       "      <td>...</td>\n",
       "      <td>17.33</td>\n",
       "      <td>184.60</td>\n",
       "      <td>2019.0</td>\n",
       "      <td>0.1622</td>\n",
       "      <td>0.6656</td>\n",
       "      <td>0.7119</td>\n",
       "      <td>0.2654</td>\n",
       "      <td>0.4601</td>\n",
       "      <td>0.11890</td>\n",
       "      <td>NaN</td>\n",
       "    </tr>\n",
       "    <tr>\n",
       "      <th>1</th>\n",
       "      <td>842517</td>\n",
       "      <td>M</td>\n",
       "      <td>20.57</td>\n",
       "      <td>17.77</td>\n",
       "      <td>132.90</td>\n",
       "      <td>1326.0</td>\n",
       "      <td>0.08474</td>\n",
       "      <td>0.07864</td>\n",
       "      <td>0.0869</td>\n",
       "      <td>0.07017</td>\n",
       "      <td>...</td>\n",
       "      <td>23.41</td>\n",
       "      <td>158.80</td>\n",
       "      <td>1956.0</td>\n",
       "      <td>0.1238</td>\n",
       "      <td>0.1866</td>\n",
       "      <td>0.2416</td>\n",
       "      <td>0.1860</td>\n",
       "      <td>0.2750</td>\n",
       "      <td>0.08902</td>\n",
       "      <td>NaN</td>\n",
       "    </tr>\n",
       "    <tr>\n",
       "      <th>2</th>\n",
       "      <td>84300903</td>\n",
       "      <td>M</td>\n",
       "      <td>19.69</td>\n",
       "      <td>21.25</td>\n",
       "      <td>130.00</td>\n",
       "      <td>1203.0</td>\n",
       "      <td>0.10960</td>\n",
       "      <td>0.15990</td>\n",
       "      <td>0.1974</td>\n",
       "      <td>0.12790</td>\n",
       "      <td>...</td>\n",
       "      <td>25.53</td>\n",
       "      <td>152.50</td>\n",
       "      <td>1709.0</td>\n",
       "      <td>0.1444</td>\n",
       "      <td>0.4245</td>\n",
       "      <td>0.4504</td>\n",
       "      <td>0.2430</td>\n",
       "      <td>0.3613</td>\n",
       "      <td>0.08758</td>\n",
       "      <td>NaN</td>\n",
       "    </tr>\n",
       "    <tr>\n",
       "      <th>3</th>\n",
       "      <td>84348301</td>\n",
       "      <td>M</td>\n",
       "      <td>11.42</td>\n",
       "      <td>20.38</td>\n",
       "      <td>77.58</td>\n",
       "      <td>386.1</td>\n",
       "      <td>0.14250</td>\n",
       "      <td>0.28390</td>\n",
       "      <td>0.2414</td>\n",
       "      <td>0.10520</td>\n",
       "      <td>...</td>\n",
       "      <td>26.50</td>\n",
       "      <td>98.87</td>\n",
       "      <td>567.7</td>\n",
       "      <td>0.2098</td>\n",
       "      <td>0.8663</td>\n",
       "      <td>0.6869</td>\n",
       "      <td>0.2575</td>\n",
       "      <td>0.6638</td>\n",
       "      <td>0.17300</td>\n",
       "      <td>NaN</td>\n",
       "    </tr>\n",
       "    <tr>\n",
       "      <th>4</th>\n",
       "      <td>84358402</td>\n",
       "      <td>M</td>\n",
       "      <td>20.29</td>\n",
       "      <td>14.34</td>\n",
       "      <td>135.10</td>\n",
       "      <td>1297.0</td>\n",
       "      <td>0.10030</td>\n",
       "      <td>0.13280</td>\n",
       "      <td>0.1980</td>\n",
       "      <td>0.10430</td>\n",
       "      <td>...</td>\n",
       "      <td>16.67</td>\n",
       "      <td>152.20</td>\n",
       "      <td>1575.0</td>\n",
       "      <td>0.1374</td>\n",
       "      <td>0.2050</td>\n",
       "      <td>0.4000</td>\n",
       "      <td>0.1625</td>\n",
       "      <td>0.2364</td>\n",
       "      <td>0.07678</td>\n",
       "      <td>NaN</td>\n",
       "    </tr>\n",
       "  </tbody>\n",
       "</table>\n",
       "<p>5 rows × 33 columns</p>\n",
       "</div>"
      ],
      "text/plain": [
       "         id diagnosis  radius_mean  texture_mean  perimeter_mean  area_mean  \\\n",
       "0    842302         M        17.99         10.38          122.80     1001.0   \n",
       "1    842517         M        20.57         17.77          132.90     1326.0   \n",
       "2  84300903         M        19.69         21.25          130.00     1203.0   \n",
       "3  84348301         M        11.42         20.38           77.58      386.1   \n",
       "4  84358402         M        20.29         14.34          135.10     1297.0   \n",
       "\n",
       "   smoothness_mean  compactness_mean  concavity_mean  concave points_mean  \\\n",
       "0          0.11840           0.27760          0.3001              0.14710   \n",
       "1          0.08474           0.07864          0.0869              0.07017   \n",
       "2          0.10960           0.15990          0.1974              0.12790   \n",
       "3          0.14250           0.28390          0.2414              0.10520   \n",
       "4          0.10030           0.13280          0.1980              0.10430   \n",
       "\n",
       "   ...  texture_worst  perimeter_worst  area_worst  smoothness_worst  \\\n",
       "0  ...          17.33           184.60      2019.0            0.1622   \n",
       "1  ...          23.41           158.80      1956.0            0.1238   \n",
       "2  ...          25.53           152.50      1709.0            0.1444   \n",
       "3  ...          26.50            98.87       567.7            0.2098   \n",
       "4  ...          16.67           152.20      1575.0            0.1374   \n",
       "\n",
       "   compactness_worst  concavity_worst  concave points_worst  symmetry_worst  \\\n",
       "0             0.6656           0.7119                0.2654          0.4601   \n",
       "1             0.1866           0.2416                0.1860          0.2750   \n",
       "2             0.4245           0.4504                0.2430          0.3613   \n",
       "3             0.8663           0.6869                0.2575          0.6638   \n",
       "4             0.2050           0.4000                0.1625          0.2364   \n",
       "\n",
       "   fractal_dimension_worst  Unnamed: 32  \n",
       "0                  0.11890          NaN  \n",
       "1                  0.08902          NaN  \n",
       "2                  0.08758          NaN  \n",
       "3                  0.17300          NaN  \n",
       "4                  0.07678          NaN  \n",
       "\n",
       "[5 rows x 33 columns]"
      ]
     },
     "execution_count": 7,
     "metadata": {},
     "output_type": "execute_result"
    }
   ],
   "source": [
    "data.head() "
   ]
  },
  {
   "cell_type": "markdown",
   "id": "620c3fe1",
   "metadata": {
    "papermill": {
     "duration": 0.010444,
     "end_time": "2022-01-16T11:49:02.387040",
     "exception": false,
     "start_time": "2022-01-16T11:49:02.376596",
     "status": "completed"
    },
    "tags": []
   },
   "source": [
    "Since SVM accepts numerical values we need to transform the values in diagnosis feature. \n",
    "- M --> Malignant(cancer), \n",
    "- B --> Benign(harmless)\n",
    "\n",
    "Other than that first and last colums are useless for us. So lets drop those columns."
   ]
  },
  {
   "cell_type": "code",
   "execution_count": 8,
   "id": "0dee1c01",
   "metadata": {
    "execution": {
     "iopub.execute_input": "2022-01-16T11:49:02.411047Z",
     "iopub.status.busy": "2022-01-16T11:49:02.410497Z",
     "iopub.status.idle": "2022-01-16T11:49:02.422855Z",
     "shell.execute_reply": "2022-01-16T11:49:02.423521Z",
     "shell.execute_reply.started": "2022-01-16T11:36:02.891836Z"
    },
    "papermill": {
     "duration": 0.026223,
     "end_time": "2022-01-16T11:49:02.423737",
     "exception": false,
     "start_time": "2022-01-16T11:49:02.397514",
     "status": "completed"
    },
    "tags": []
   },
   "outputs": [],
   "source": [
    "diagnosis_map = {'M':1, 'B':-1}  #We use -1 instead of 0 because of how SVM works. \n",
    "data['diagnosis'] = data['diagnosis'].map(diagnosis_map)\n",
    "\n",
    "data.drop(data.columns[[-1, 0]], axis=1, inplace=True) # axis 1 -> columns, 'inplace = True' means we do the drop operation inplace and return None."
   ]
  },
  {
   "cell_type": "code",
   "execution_count": 9,
   "id": "33921170",
   "metadata": {
    "execution": {
     "iopub.execute_input": "2022-01-16T11:49:02.448362Z",
     "iopub.status.busy": "2022-01-16T11:49:02.447697Z",
     "iopub.status.idle": "2022-01-16T11:49:02.472849Z",
     "shell.execute_reply": "2022-01-16T11:49:02.472262Z",
     "shell.execute_reply.started": "2022-01-16T11:36:02.907797Z"
    },
    "papermill": {
     "duration": 0.03857,
     "end_time": "2022-01-16T11:49:02.472993",
     "exception": false,
     "start_time": "2022-01-16T11:49:02.434423",
     "status": "completed"
    },
    "tags": []
   },
   "outputs": [
    {
     "data": {
      "text/html": [
       "<div>\n",
       "<style scoped>\n",
       "    .dataframe tbody tr th:only-of-type {\n",
       "        vertical-align: middle;\n",
       "    }\n",
       "\n",
       "    .dataframe tbody tr th {\n",
       "        vertical-align: top;\n",
       "    }\n",
       "\n",
       "    .dataframe thead th {\n",
       "        text-align: right;\n",
       "    }\n",
       "</style>\n",
       "<table border=\"1\" class=\"dataframe\">\n",
       "  <thead>\n",
       "    <tr style=\"text-align: right;\">\n",
       "      <th></th>\n",
       "      <th>diagnosis</th>\n",
       "      <th>radius_mean</th>\n",
       "      <th>texture_mean</th>\n",
       "      <th>perimeter_mean</th>\n",
       "      <th>area_mean</th>\n",
       "      <th>smoothness_mean</th>\n",
       "      <th>compactness_mean</th>\n",
       "      <th>concavity_mean</th>\n",
       "      <th>concave points_mean</th>\n",
       "      <th>symmetry_mean</th>\n",
       "      <th>...</th>\n",
       "      <th>radius_worst</th>\n",
       "      <th>texture_worst</th>\n",
       "      <th>perimeter_worst</th>\n",
       "      <th>area_worst</th>\n",
       "      <th>smoothness_worst</th>\n",
       "      <th>compactness_worst</th>\n",
       "      <th>concavity_worst</th>\n",
       "      <th>concave points_worst</th>\n",
       "      <th>symmetry_worst</th>\n",
       "      <th>fractal_dimension_worst</th>\n",
       "    </tr>\n",
       "  </thead>\n",
       "  <tbody>\n",
       "    <tr>\n",
       "      <th>0</th>\n",
       "      <td>1</td>\n",
       "      <td>17.99</td>\n",
       "      <td>10.38</td>\n",
       "      <td>122.80</td>\n",
       "      <td>1001.0</td>\n",
       "      <td>0.11840</td>\n",
       "      <td>0.27760</td>\n",
       "      <td>0.3001</td>\n",
       "      <td>0.14710</td>\n",
       "      <td>0.2419</td>\n",
       "      <td>...</td>\n",
       "      <td>25.38</td>\n",
       "      <td>17.33</td>\n",
       "      <td>184.60</td>\n",
       "      <td>2019.0</td>\n",
       "      <td>0.1622</td>\n",
       "      <td>0.6656</td>\n",
       "      <td>0.7119</td>\n",
       "      <td>0.2654</td>\n",
       "      <td>0.4601</td>\n",
       "      <td>0.11890</td>\n",
       "    </tr>\n",
       "    <tr>\n",
       "      <th>1</th>\n",
       "      <td>1</td>\n",
       "      <td>20.57</td>\n",
       "      <td>17.77</td>\n",
       "      <td>132.90</td>\n",
       "      <td>1326.0</td>\n",
       "      <td>0.08474</td>\n",
       "      <td>0.07864</td>\n",
       "      <td>0.0869</td>\n",
       "      <td>0.07017</td>\n",
       "      <td>0.1812</td>\n",
       "      <td>...</td>\n",
       "      <td>24.99</td>\n",
       "      <td>23.41</td>\n",
       "      <td>158.80</td>\n",
       "      <td>1956.0</td>\n",
       "      <td>0.1238</td>\n",
       "      <td>0.1866</td>\n",
       "      <td>0.2416</td>\n",
       "      <td>0.1860</td>\n",
       "      <td>0.2750</td>\n",
       "      <td>0.08902</td>\n",
       "    </tr>\n",
       "    <tr>\n",
       "      <th>2</th>\n",
       "      <td>1</td>\n",
       "      <td>19.69</td>\n",
       "      <td>21.25</td>\n",
       "      <td>130.00</td>\n",
       "      <td>1203.0</td>\n",
       "      <td>0.10960</td>\n",
       "      <td>0.15990</td>\n",
       "      <td>0.1974</td>\n",
       "      <td>0.12790</td>\n",
       "      <td>0.2069</td>\n",
       "      <td>...</td>\n",
       "      <td>23.57</td>\n",
       "      <td>25.53</td>\n",
       "      <td>152.50</td>\n",
       "      <td>1709.0</td>\n",
       "      <td>0.1444</td>\n",
       "      <td>0.4245</td>\n",
       "      <td>0.4504</td>\n",
       "      <td>0.2430</td>\n",
       "      <td>0.3613</td>\n",
       "      <td>0.08758</td>\n",
       "    </tr>\n",
       "    <tr>\n",
       "      <th>3</th>\n",
       "      <td>1</td>\n",
       "      <td>11.42</td>\n",
       "      <td>20.38</td>\n",
       "      <td>77.58</td>\n",
       "      <td>386.1</td>\n",
       "      <td>0.14250</td>\n",
       "      <td>0.28390</td>\n",
       "      <td>0.2414</td>\n",
       "      <td>0.10520</td>\n",
       "      <td>0.2597</td>\n",
       "      <td>...</td>\n",
       "      <td>14.91</td>\n",
       "      <td>26.50</td>\n",
       "      <td>98.87</td>\n",
       "      <td>567.7</td>\n",
       "      <td>0.2098</td>\n",
       "      <td>0.8663</td>\n",
       "      <td>0.6869</td>\n",
       "      <td>0.2575</td>\n",
       "      <td>0.6638</td>\n",
       "      <td>0.17300</td>\n",
       "    </tr>\n",
       "    <tr>\n",
       "      <th>4</th>\n",
       "      <td>1</td>\n",
       "      <td>20.29</td>\n",
       "      <td>14.34</td>\n",
       "      <td>135.10</td>\n",
       "      <td>1297.0</td>\n",
       "      <td>0.10030</td>\n",
       "      <td>0.13280</td>\n",
       "      <td>0.1980</td>\n",
       "      <td>0.10430</td>\n",
       "      <td>0.1809</td>\n",
       "      <td>...</td>\n",
       "      <td>22.54</td>\n",
       "      <td>16.67</td>\n",
       "      <td>152.20</td>\n",
       "      <td>1575.0</td>\n",
       "      <td>0.1374</td>\n",
       "      <td>0.2050</td>\n",
       "      <td>0.4000</td>\n",
       "      <td>0.1625</td>\n",
       "      <td>0.2364</td>\n",
       "      <td>0.07678</td>\n",
       "    </tr>\n",
       "  </tbody>\n",
       "</table>\n",
       "<p>5 rows × 31 columns</p>\n",
       "</div>"
      ],
      "text/plain": [
       "   diagnosis  radius_mean  texture_mean  perimeter_mean  area_mean  \\\n",
       "0          1        17.99         10.38          122.80     1001.0   \n",
       "1          1        20.57         17.77          132.90     1326.0   \n",
       "2          1        19.69         21.25          130.00     1203.0   \n",
       "3          1        11.42         20.38           77.58      386.1   \n",
       "4          1        20.29         14.34          135.10     1297.0   \n",
       "\n",
       "   smoothness_mean  compactness_mean  concavity_mean  concave points_mean  \\\n",
       "0          0.11840           0.27760          0.3001              0.14710   \n",
       "1          0.08474           0.07864          0.0869              0.07017   \n",
       "2          0.10960           0.15990          0.1974              0.12790   \n",
       "3          0.14250           0.28390          0.2414              0.10520   \n",
       "4          0.10030           0.13280          0.1980              0.10430   \n",
       "\n",
       "   symmetry_mean  ...  radius_worst  texture_worst  perimeter_worst  \\\n",
       "0         0.2419  ...         25.38          17.33           184.60   \n",
       "1         0.1812  ...         24.99          23.41           158.80   \n",
       "2         0.2069  ...         23.57          25.53           152.50   \n",
       "3         0.2597  ...         14.91          26.50            98.87   \n",
       "4         0.1809  ...         22.54          16.67           152.20   \n",
       "\n",
       "   area_worst  smoothness_worst  compactness_worst  concavity_worst  \\\n",
       "0      2019.0            0.1622             0.6656           0.7119   \n",
       "1      1956.0            0.1238             0.1866           0.2416   \n",
       "2      1709.0            0.1444             0.4245           0.4504   \n",
       "3       567.7            0.2098             0.8663           0.6869   \n",
       "4      1575.0            0.1374             0.2050           0.4000   \n",
       "\n",
       "   concave points_worst  symmetry_worst  fractal_dimension_worst  \n",
       "0                0.2654          0.4601                  0.11890  \n",
       "1                0.1860          0.2750                  0.08902  \n",
       "2                0.2430          0.3613                  0.08758  \n",
       "3                0.2575          0.6638                  0.17300  \n",
       "4                0.1625          0.2364                  0.07678  \n",
       "\n",
       "[5 rows x 31 columns]"
      ]
     },
     "execution_count": 9,
     "metadata": {},
     "output_type": "execute_result"
    }
   ],
   "source": [
    "data.head()"
   ]
  },
  {
   "cell_type": "markdown",
   "id": "a00bdeae",
   "metadata": {
    "papermill": {
     "duration": 0.01111,
     "end_time": "2022-01-16T11:49:02.495263",
     "exception": false,
     "start_time": "2022-01-16T11:49:02.484153",
     "status": "completed"
    },
    "tags": []
   },
   "source": [
    "### Train-test Split and Normalization"
   ]
  },
  {
   "cell_type": "markdown",
   "id": "7aa39ada",
   "metadata": {
    "papermill": {
     "duration": 0.0107,
     "end_time": "2022-01-16T11:49:02.516780",
     "exception": false,
     "start_time": "2022-01-16T11:49:02.506080",
     "status": "completed"
    },
    "tags": []
   },
   "source": [
    "#### Train-test Split: \n",
    "_We split our data into two seperate subsets which are train and test subsets. Like the names suggest we use train subset to train our model and test subset to test how is our model performing. Our objective doing this is to estimate the performance of the machine learning model on data not used to train the model so that we can get an objective result how is our model performing._\n",
    "\n",
    "#### Normalization:\n",
    "_Normalization is basically scaling the values to use some common scale without losing information. If data we are using has some features that has drastically different scale of numbers then normalization is crucial for algorithms that uses numeric values. If we don't use normalization in these kind of algorithms that huge difference could cause problems when we combine those features during modeling._"
   ]
  },
  {
   "cell_type": "code",
   "execution_count": 10,
   "id": "8fee2672",
   "metadata": {
    "execution": {
     "iopub.execute_input": "2022-01-16T11:49:02.542678Z",
     "iopub.status.busy": "2022-01-16T11:49:02.542047Z",
     "iopub.status.idle": "2022-01-16T11:49:02.552477Z",
     "shell.execute_reply": "2022-01-16T11:49:02.552917Z",
     "shell.execute_reply.started": "2022-01-16T11:36:02.945538Z"
    },
    "papermill": {
     "duration": 0.025288,
     "end_time": "2022-01-16T11:49:02.553116",
     "exception": false,
     "start_time": "2022-01-16T11:49:02.527828",
     "status": "completed"
    },
    "tags": []
   },
   "outputs": [],
   "source": [
    "y = data.loc[:, 'diagnosis']  # Select diagnosis column.\n",
    "\n",
    "X = data.iloc[:, 1:]  # Select columns other than diagnosis.\n",
    "\n",
    "X_normalized = MinMaxScaler().fit_transform(X.values) # Scaling the values in X between (0,1).\n",
    "X = pd.DataFrame(X_normalized)\n",
    "\n",
    "X_train, X_test, y_train, y_test = tts(X, y, test_size=0.2, random_state=42)\n"
   ]
  },
  {
   "cell_type": "markdown",
   "id": "eebfe824",
   "metadata": {
    "papermill": {
     "duration": 0.015305,
     "end_time": "2022-01-16T11:49:02.582022",
     "exception": false,
     "start_time": "2022-01-16T11:49:02.566717",
     "status": "completed"
    },
    "tags": []
   },
   "source": [
    "# SVM IMPLEMENTATION\n"
   ]
  },
  {
   "cell_type": "markdown",
   "id": "277000fc",
   "metadata": {
    "papermill": {
     "duration": 0.012762,
     "end_time": "2022-01-16T11:49:02.606851",
     "exception": false,
     "start_time": "2022-01-16T11:49:02.594089",
     "status": "completed"
    },
    "tags": []
   },
   "source": [
    "“Support Vector Machine” (SVM) is one of the supervised machine learning algorithms. It is generally used for binary classification. Suppose we have a dataset with labeled examples($x_i$, $y_i$); using this dataset algorithms defines a hyperplane that has the following properties:\n",
    "- Goal of this hyperplane is to create a seperation between two classes with a maximum margin. \n",
    "- Our equation for algorithm is $wx + b = 0$. Our equation for margin is $2/{||w||}$\n",
    "- $wx_i + b >= 1$ cho $y_i = 1$ và $wx_i + b <= 1$ for $y_i = -1$; so our condition for correct classification is equation and class has to have same sign and equation for our condition is $y_i(wx_i + b) >= 1$.\n",
    "\n",
    "So to define this hyperplane we need come up with optimal values for w and b. For this we will used the cost function and then apply gradient descent. The lost function we will be using is hinge loss. Equation of hinge loss is $l = max(0, 1 - y_i(wx_i + b))$. What this means is,\n",
    "- If l is 0, that means '1 - $y_i(wx_i + b)$' is a smaller or equal to 0. For this to happen $y_i(wx_i + b)$ has to be bigger or equal to 1. We already know that '$y_i(wx_i + b) >= 1$' is our condition for correct classification. So to sum it up, if l is equal to 0 that means classification we did is correct.\n",
    "- If l is something other than 0,  that means our classification is wrong.\n",
    "\n",
    "On top of the hinge loss to we also add a regularization parameter to balance the margin maximization and loss. Our final function when we add this parameter will be \n",
    "J = λ\\$||w||^2$ + $\\frac{1}{n}$  $\\sum_{i=1}^{n} max(0, 1 - y_i(wx_i + b)) $.\n",
    "\n",
    "Now that we have the loss function, we take the partial derivatives with respect to the weights and bias to find gradients.<br/>\n",
    "If $y_i(w*x_i + b)) >= 1$:\n",
    "- $\\frac{dJ}{w}$ = 2λw\n",
    "- $\\frac{dJ}{b}$ = 0 <br/>\n",
    " \n",
    "Else:\n",
    "- $\\frac{dJ}{w}$ = 2λw - $y_ix_i$\n",
    "- $\\frac{dJ}{b}$ = $y_i$\n",
    "\n",
    "Our update rule based on those derivatives are:\n",
    "- w = w - $\\alpha * dw$\n",
    "- b = b + $\\alpha * db$\n",
    "\n",
    "\n"
   ]
  },
  {
   "cell_type": "code",
   "execution_count": 11,
   "id": "097a4dc7",
   "metadata": {
    "execution": {
     "iopub.execute_input": "2022-01-16T11:49:02.640038Z",
     "iopub.status.busy": "2022-01-16T11:49:02.639064Z",
     "iopub.status.idle": "2022-01-16T11:49:02.648908Z",
     "shell.execute_reply": "2022-01-16T11:49:02.649485Z",
     "shell.execute_reply.started": "2022-01-16T11:36:02.960607Z"
    },
    "papermill": {
     "duration": 0.027959,
     "end_time": "2022-01-16T11:49:02.649691",
     "exception": false,
     "start_time": "2022-01-16T11:49:02.621732",
     "status": "completed"
    },
    "tags": []
   },
   "outputs": [],
   "source": [
    "class SVM:\n",
    "    \n",
    "    def init(self, learning_rate=0.001, lambda_param=0.01, n_iters=1000):\n",
    "        self.lr = learning_rate # 𝛼 in formula\n",
    "        self.lambda_param = lambda_param\n",
    "        self.n_iters = n_iters \n",
    "        self.w = None\n",
    "        self.b = None\n",
    "\n",
    "    def fit(self, X, y):\n",
    "        n_samples, n_features = X.shape\n",
    "\n",
    "        self.w = np.zeros(n_features)\n",
    "        self.b = 0\n",
    "\n",
    "        for _ in range(self.n_iters):\n",
    "            for idx, x_i in enumerate(X):\n",
    "                self.update(x_i, y[idx])\n",
    "\n",
    "    def update(self,x,y):\n",
    "        distance = 1 - (y * (np.dot(x, self.w) + self.b))\n",
    "        hinge_loss = max(0,distance)\n",
    "        if(hinge_loss == 0):\n",
    "            self.w = self.w - self.lr * (2 * self.lambda_param * self.w)\n",
    "        else: \n",
    "            self.w = self.w - self.lr * (2 * self.lambda_param * self.w - np.dot(x,y))\n",
    "            self.b = self.b + self.lr * y\n",
    "        \n",
    "        \n",
    "    def predict(self, X):\n",
    "        eq = np.dot(X, self.w) + self.b\n",
    "        return np.sign(eq)\n"
   ]
  },
  {
   "cell_type": "code",
   "execution_count": 12,
   "id": "e556d9a7",
   "metadata": {
    "execution": {
     "iopub.execute_input": "2022-01-16T11:49:02.678618Z",
     "iopub.status.busy": "2022-01-16T11:49:02.677878Z",
     "iopub.status.idle": "2022-01-16T11:49:07.616222Z",
     "shell.execute_reply": "2022-01-16T11:49:07.616992Z",
     "shell.execute_reply.started": "2022-01-16T11:36:02.974142Z"
    },
    "papermill": {
     "duration": 4.95596,
     "end_time": "2022-01-16T11:49:07.617194",
     "exception": false,
     "start_time": "2022-01-16T11:49:02.661234",
     "status": "completed"
    },
    "tags": []
   },
   "outputs": [],
   "source": [
    "clf = SVM()\n",
    "clf.init()\n",
    "clf.fit(X_train.to_numpy(), y_train.to_numpy())"
   ]
  },
  {
   "cell_type": "code",
   "execution_count": 13,
   "id": "28905095",
   "metadata": {
    "execution": {
     "iopub.execute_input": "2022-01-16T11:49:07.645306Z",
     "iopub.status.busy": "2022-01-16T11:49:07.644638Z",
     "iopub.status.idle": "2022-01-16T11:49:07.647782Z",
     "shell.execute_reply": "2022-01-16T11:49:07.647212Z",
     "shell.execute_reply.started": "2022-01-16T11:36:10.734777Z"
    },
    "papermill": {
     "duration": 0.019324,
     "end_time": "2022-01-16T11:49:07.647930",
     "exception": false,
     "start_time": "2022-01-16T11:49:07.628606",
     "status": "completed"
    },
    "tags": []
   },
   "outputs": [],
   "source": [
    "y_test_predicted = clf.predict(X_test.to_numpy())"
   ]
  },
  {
   "cell_type": "code",
   "execution_count": 14,
   "id": "2c748360",
   "metadata": {
    "execution": {
     "iopub.execute_input": "2022-01-16T11:49:07.676443Z",
     "iopub.status.busy": "2022-01-16T11:49:07.675511Z",
     "iopub.status.idle": "2022-01-16T11:49:07.682010Z",
     "shell.execute_reply": "2022-01-16T11:49:07.682600Z",
     "shell.execute_reply.started": "2022-01-16T11:36:10.741196Z"
    },
    "papermill": {
     "duration": 0.024075,
     "end_time": "2022-01-16T11:49:07.682786",
     "exception": false,
     "start_time": "2022-01-16T11:49:07.658711",
     "status": "completed"
    },
    "tags": []
   },
   "outputs": [
    {
     "name": "stdout",
     "output_type": "stream",
     "text": [
      "accuracy on test dataset: 0.9649122807017544\n",
      "recall on test dataset: 0.9069767441860465\n",
      "precision on test dataset: 1.0\n"
     ]
    }
   ],
   "source": [
    "print(\"accuracy on test dataset: {}\".format(accuracy_score(y_test.to_numpy(), y_test_predicted)))\n",
    "print(\"recall on test dataset: {}\".format(recall_score(y_test.to_numpy(), y_test_predicted)))\n",
    "print(\"precision on test dataset: {}\".format(precision_score(y_test.to_numpy(), y_test_predicted)))\n"
   ]
  }
 ],
 "metadata": {
  "kernelspec": {
   "display_name": "Python 3",
   "language": "python",
   "name": "python3"
  },
  "language_info": {
   "codemirror_mode": {
    "name": "ipython",
    "version": 3
   },
   "file_extension": ".py",
   "mimetype": "text/x-python",
   "name": "python",
   "nbconvert_exporter": "python",
   "pygments_lexer": "ipython3",
   "version": "3.9.0"
  },
  "papermill": {
   "default_parameters": {},
   "duration": 16.584326,
   "end_time": "2022-01-16T11:49:08.505925",
   "environment_variables": {},
   "exception": null,
   "input_path": "__notebook__.ipynb",
   "output_path": "__notebook__.ipynb",
   "parameters": {},
   "start_time": "2022-01-16T11:48:51.921599",
   "version": "2.3.3"
  }
 },
 "nbformat": 4,
 "nbformat_minor": 5
}
